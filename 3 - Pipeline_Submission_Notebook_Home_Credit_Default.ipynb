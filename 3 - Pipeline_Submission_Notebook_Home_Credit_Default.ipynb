{
  "nbformat": 4,
  "nbformat_minor": 0,
  "metadata": {
    "colab": {
      "name": "Pipeline Submission - Notebook - Home Credit Default.ipynb",
      "provenance": [],
      "collapsed_sections": []
    },
    "kernelspec": {
      "name": "python3",
      "display_name": "Python 3"
    },
    "language_info": {
      "name": "python"
    }
  },
  "cells": [
    {
      "cell_type": "markdown",
      "metadata": {
        "id": "Yuim06eI2f5k"
      },
      "source": [
        "#Libraries"
      ]
    },
    {
      "cell_type": "code",
      "metadata": {
        "colab": {
          "base_uri": "https://localhost:8080/"
        },
        "id": "W_AK1prT2TdC",
        "outputId": "25934663-5e42-4aa6-ca06-b316e12696fd"
      },
      "source": [
        "from google.colab import drive\n",
        "drive.mount('/content/drive')"
      ],
      "execution_count": null,
      "outputs": [
        {
          "output_type": "stream",
          "text": [
            "Drive already mounted at /content/drive; to attempt to forcibly remount, call drive.mount(\"/content/drive\", force_remount=True).\n"
          ],
          "name": "stdout"
        }
      ]
    },
    {
      "cell_type": "code",
      "metadata": {
        "id": "bB9qgYyT2jzY"
      },
      "source": [
        "#basic library\n",
        "import pandas as pd\n",
        "import numpy as np\n",
        "import matplotlib.pyplot as plt\n",
        "import seaborn as sns\n",
        "sns.set_style('darkgrid')\n",
        "from scipy.stats import kurtosis\n",
        "from scipy.stats import skew\n",
        "import missingno as ms\n",
        "import pickle\n",
        "\n",
        "#Models\n",
        "from sklearn.preprocessing import LabelEncoder\n",
        "from sklearn.experimental import enable_iterative_imputer\n",
        "from sklearn.impute import IterativeImputer\n",
        "from sklearn.impute import KNNImputer\n",
        "from sklearn.model_selection import RandomizedSearchCV\n",
        "from sklearn import model_selection, preprocessing, metrics\n",
        "from sklearn.linear_model import BayesianRidge\n",
        "from sklearn.model_selection import train_test_split\n",
        "from sklearn.metrics import roc_curve, auc\n",
        "from sklearn.model_selection import GridSearchCV\n",
        "\n",
        "\n",
        "#disable warnings\n",
        "import warnings\n",
        "warnings.simplefilter(action='ignore', category=FutureWarning)"
      ],
      "execution_count": null,
      "outputs": []
    },
    {
      "cell_type": "markdown",
      "metadata": {
        "id": "9j-vSvDvVkj5"
      },
      "source": [
        "#Define Functions"
      ]
    },
    {
      "cell_type": "code",
      "metadata": {
        "id": "sdWXbf79eIkP"
      },
      "source": [
        "#Functions\n",
        "\n",
        "#Split dataframe by data types\n",
        "def split_dataframe(dataframe):\n",
        "  cat_dataframe = pd.DataFrame(dataframe.iloc[:,0:2])\n",
        "  cont_dataframe = pd.DataFrame(dataframe.iloc[:,0:2])\n",
        "  col = list(dataframe.columns)\n",
        "  col.pop(0)\n",
        "  col.pop(0)\n",
        "  for c in col:\n",
        "    if dataframe[c].dtypes == 'object':\n",
        "      cat_dataframe = pd.concat([cat_dataframe, dataframe[c]], axis = 1)\n",
        "    elif dataframe[c].isin([0,1,'Nan']).all():\n",
        "        cat_dataframe = pd.concat([cat_dataframe, dataframe[c]], axis = 1)\n",
        "    else:\n",
        "      cont_dataframe = pd.concat([cont_dataframe, dataframe[c]], axis = 1)\n",
        "  cat = cat_dataframe\n",
        "  cont = cont_dataframe\n",
        "  return cat, cont\n",
        "\n",
        "#Organize aggregation of datasets\n",
        "def organize_agg(dataframe, stat, name):\n",
        "  columns = []\n",
        "  for var in dataframe.columns.levels[0]:\n",
        "    for stat in dataframe.columns.levels[1][:]:\n",
        "      columns.append('%s_%s_%s' % (name, var, stat))\n",
        "  dataframe.columns = columns\n",
        "  return dataframe\n",
        "\n",
        "#Number of missing values in the dataframe application\n",
        "def missing_values(dataframe):\n",
        "  number_MV = pd.DataFrame({'Count' : dataframe.isnull().sum(),\n",
        "                          '%': dataframe.isnull().sum()/len(dataframe)})\n",
        "  print(number_MV.astype(bool).sum(axis=0)[0], 'Columns with missing values')\n",
        "  return number_MV.sort_values('Count', ascending=False)\n",
        "\n",
        "\n",
        "#Plot ROC AUC Curve\n",
        "def plot_roc(y_test, y_predict):\n",
        "    fpr, tpr, _ = roc_curve(y_test, y_predict)\n",
        "    roc_auc = auc(fpr,tpr)\n",
        "    print(roc_auc)\n",
        "    plt.figure(figsize=(10,8))\n",
        "    plt.title(\"ROC curve\")\n",
        "    plt.plot(fpr, tpr, label='ROC curve (area = %0.2f)' % roc_auc)\n",
        "    plt.plot([0,1], [0,1],'r--')\n",
        "    plt.legend(loc=\"lower right\")\n",
        "\n",
        "#Plot Feature Importances\n",
        "def plot_feature_importances(model):\n",
        "    plt.figure(figsize=(20,20))\n",
        "\n",
        "    fi_df = pd.DataFrame(model.feature_importances_, index=col[1:])\n",
        "    fi_df = fi_df.rename(columns={0:'Feature importance'})\n",
        "    fi_df.sort_values('Feature importance', ascending=True, inplace=True)\n",
        "\n",
        "    ax = plt.subplot()\n",
        "    ax.barh(list(fi_df.index), fi_df['Feature importance'])\n",
        "    return fi_df"
      ],
      "execution_count": null,
      "outputs": []
    },
    {
      "cell_type": "markdown",
      "metadata": {
        "id": "2gkQ9CKf3JSx"
      },
      "source": [
        "#Load Dataset"
      ]
    },
    {
      "cell_type": "code",
      "metadata": {
        "id": "u61OAH2m3L9j"
      },
      "source": [
        "#Load Dataset\n",
        "path = '/content/drive/MyDrive/DS/CreditRisk/home-credit-default-risk/'\n",
        "\n",
        "#Load Dataset\n",
        "application_train = pd.read_csv(path + 'application_train.csv')\n",
        "bureau = pd.read_csv(path + 'bureau.csv')\n",
        "bureau_balance = pd.read_csv(path + 'bureau_balance.csv')\n",
        "pos_cash_balance = pd.read_csv(path + 'POS_CASH_balance.csv')\n",
        "credit_card_balance = pd.read_csv(path + 'credit_card_balance.csv')\n",
        "previous_application = pd.read_csv(path + 'previous_application.csv')\n",
        "installments_payments = pd.read_csv(path + 'installments_payments.csv')\n",
        "test_application = pd.read_csv(path + 'application_test.csv')"
      ],
      "execution_count": null,
      "outputs": []
    },
    {
      "cell_type": "markdown",
      "metadata": {
        "id": "TU0i0eZZBbO-"
      },
      "source": [
        "#Pipeline"
      ]
    },
    {
      "cell_type": "markdown",
      "metadata": {
        "id": "u_XunG2CHdcl"
      },
      "source": [
        "##Application"
      ]
    },
    {
      "cell_type": "code",
      "metadata": {
        "id": "oejNdAOiBE9A"
      },
      "source": [
        "index_target = ['SK_ID_CURR']\n",
        "\n",
        "numerical_features = ['CNT_CHILDREN',\n",
        " 'AMT_INCOME_TOTAL',\n",
        " 'AMT_CREDIT',\n",
        " 'AMT_ANNUITY',\n",
        " 'AMT_GOODS_PRICE',\n",
        " 'REGION_POPULATION_RELATIVE',\n",
        " 'DAYS_BIRTH',\n",
        " 'DAYS_EMPLOYED',\n",
        " 'DAYS_REGISTRATION',\n",
        " 'DAYS_ID_PUBLISH',\n",
        " 'CNT_FAM_MEMBERS',\n",
        " 'REGION_RATING_CLIENT',\n",
        " 'REGION_RATING_CLIENT_W_CITY',\n",
        " 'HOUR_APPR_PROCESS_START',\n",
        " 'EXT_SOURCE_1',\n",
        " 'EXT_SOURCE_2',\n",
        " 'EXT_SOURCE_3',\n",
        " 'FLOORSMAX_AVG',\n",
        " 'YEARS_BEGINEXPLUATATION_AVG',\n",
        " 'TOTALAREA_MODE',\n",
        " 'LIVINGAREA_AVG',\n",
        " 'APARTMENTS_AVG',\n",
        " 'ENTRANCES_AVG',\n",
        " 'ELEVATORS_AVG',\n",
        " 'OBS_30_CNT_SOCIAL_CIRCLE',\n",
        " 'DEF_30_CNT_SOCIAL_CIRCLE',\n",
        " 'OBS_60_CNT_SOCIAL_CIRCLE',\n",
        " 'DEF_60_CNT_SOCIAL_CIRCLE',\n",
        " 'DAYS_LAST_PHONE_CHANGE',\n",
        " 'AMT_REQ_CREDIT_BUREAU_HOUR',\n",
        " 'AMT_REQ_CREDIT_BUREAU_DAY',\n",
        " 'AMT_REQ_CREDIT_BUREAU_WEEK',\n",
        " 'AMT_REQ_CREDIT_BUREAU_MON',\n",
        " 'AMT_REQ_CREDIT_BUREAU_QRT',\n",
        " 'AMT_REQ_CREDIT_BUREAU_YEAR']\n",
        "\n",
        "#Columns with categorical data for the application test dataframe\n",
        "categorial_features = ['NAME_CONTRACT_TYPE',\n",
        " 'CODE_GENDER',\n",
        " 'OCCUPATION_TYPE',\n",
        " 'ORGANIZATION_TYPE',\n",
        " 'FONDKAPREMONT_MODE',\n",
        " 'HOUSETYPE_MODE',\n",
        " 'WALLSMATERIAL_MODE']"
      ],
      "execution_count": null,
      "outputs": []
    },
    {
      "cell_type": "code",
      "metadata": {
        "id": "AaZV3jP8Btr2"
      },
      "source": [
        "df = test_application[index_target+ numerical_features + categorial_features]"
      ],
      "execution_count": null,
      "outputs": []
    },
    {
      "cell_type": "code",
      "metadata": {
        "id": "rNxLDJNkNkkI"
      },
      "source": [
        "time_features = ['DAYS_BIRTH',\n",
        "                  'DAYS_EMPLOYED',\n",
        "                  'DAYS_REGISTRATION',\n",
        "                  'DAYS_ID_PUBLISH', \n",
        "                  'DAYS_LAST_PHONE_CHANGE']"
      ],
      "execution_count": null,
      "outputs": []
    },
    {
      "cell_type": "code",
      "metadata": {
        "colab": {
          "base_uri": "https://localhost:8080/"
        },
        "id": "M7TPt3qONkkJ",
        "outputId": "7d7c6ae3-654f-4644-c505-68b2264939ae"
      },
      "source": [
        "for i in time_features:\n",
        "  df[i] = df[i]/-365"
      ],
      "execution_count": null,
      "outputs": [
        {
          "output_type": "stream",
          "text": [
            "/usr/local/lib/python3.7/dist-packages/ipykernel_launcher.py:2: SettingWithCopyWarning: \n",
            "A value is trying to be set on a copy of a slice from a DataFrame.\n",
            "Try using .loc[row_indexer,col_indexer] = value instead\n",
            "\n",
            "See the caveats in the documentation: https://pandas.pydata.org/pandas-docs/stable/user_guide/indexing.html#returning-a-view-versus-a-copy\n",
            "  \n"
          ],
          "name": "stderr"
        }
      ]
    },
    {
      "cell_type": "markdown",
      "metadata": {
        "id": "Z1ulDJo-Kly-"
      },
      "source": [
        "##Bureau"
      ]
    },
    {
      "cell_type": "code",
      "metadata": {
        "id": "xp77mzF-Nbp0"
      },
      "source": [
        "selected_colums_bureau = ['SK_ID_CURR', 'SK_ID_BUREAU', 'CREDIT_ACTIVE', 'DAYS_CREDIT', 'CREDIT_TYPE', 'DAYS_CREDIT_UPDATE']"
      ],
      "execution_count": null,
      "outputs": []
    },
    {
      "cell_type": "markdown",
      "metadata": {
        "id": "5439mG7FP4Hy"
      },
      "source": [
        "Treatment of time relative features"
      ]
    },
    {
      "cell_type": "code",
      "metadata": {
        "id": "32fz3xnTYZm1"
      },
      "source": [
        "df_bureau = bureau[selected_colums_bureau]"
      ],
      "execution_count": null,
      "outputs": []
    },
    {
      "cell_type": "code",
      "metadata": {
        "id": "Da-B8G7aOAg4"
      },
      "source": [
        "time_features = ['DAYS_CREDIT',\n",
        "                 'DAYS_CREDIT_UPDATE']"
      ],
      "execution_count": null,
      "outputs": []
    },
    {
      "cell_type": "code",
      "metadata": {
        "colab": {
          "base_uri": "https://localhost:8080/"
        },
        "id": "jn_Zofs0OAhD",
        "outputId": "8cd25aa0-533f-4eca-c7df-2720e7ad884b"
      },
      "source": [
        "for i in time_features:\n",
        "  df_bureau[i] = df_bureau[i]/-365"
      ],
      "execution_count": null,
      "outputs": [
        {
          "output_type": "stream",
          "text": [
            "/usr/local/lib/python3.7/dist-packages/ipykernel_launcher.py:2: SettingWithCopyWarning: \n",
            "A value is trying to be set on a copy of a slice from a DataFrame.\n",
            "Try using .loc[row_indexer,col_indexer] = value instead\n",
            "\n",
            "See the caveats in the documentation: https://pandas.pydata.org/pandas-docs/stable/user_guide/indexing.html#returning-a-view-versus-a-copy\n",
            "  \n"
          ],
          "name": "stderr"
        }
      ]
    },
    {
      "cell_type": "code",
      "metadata": {
        "colab": {
          "base_uri": "https://localhost:8080/"
        },
        "id": "n-L04fctPkCn",
        "outputId": "4f25249f-9071-4e02-fdc6-55e73eed4411"
      },
      "source": [
        "for i in time_features:\n",
        "  df_bureau.loc[lambda df_bureau: df_bureau[i] < 0, [i]] = 0"
      ],
      "execution_count": null,
      "outputs": [
        {
          "output_type": "stream",
          "text": [
            "/usr/local/lib/python3.7/dist-packages/pandas/core/indexing.py:1763: SettingWithCopyWarning: \n",
            "A value is trying to be set on a copy of a slice from a DataFrame.\n",
            "Try using .loc[row_indexer,col_indexer] = value instead\n",
            "\n",
            "See the caveats in the documentation: https://pandas.pydata.org/pandas-docs/stable/user_guide/indexing.html#returning-a-view-versus-a-copy\n",
            "  isetter(loc, value)\n",
            "/usr/local/lib/python3.7/dist-packages/pandas/core/indexing.py:1763: SettingWithCopyWarning: \n",
            "A value is trying to be set on a copy of a slice from a DataFrame.\n",
            "Try using .loc[row_indexer,col_indexer] = value instead\n",
            "\n",
            "See the caveats in the documentation: https://pandas.pydata.org/pandas-docs/stable/user_guide/indexing.html#returning-a-view-versus-a-copy\n",
            "  isetter(loc, value)\n"
          ],
          "name": "stderr"
        }
      ]
    },
    {
      "cell_type": "code",
      "metadata": {
        "colab": {
          "base_uri": "https://localhost:8080/"
        },
        "id": "1FsICk2ULG76",
        "outputId": "5071b28b-4c74-401e-c82e-5d4431d0b043"
      },
      "source": [
        "for i in time_features:\n",
        "  df_bureau.loc[lambda df_bureau: df_bureau[i] > 100, [i]] = -99999"
      ],
      "execution_count": null,
      "outputs": [
        {
          "output_type": "stream",
          "text": [
            "/usr/local/lib/python3.7/dist-packages/pandas/core/indexing.py:1763: SettingWithCopyWarning: \n",
            "A value is trying to be set on a copy of a slice from a DataFrame.\n",
            "Try using .loc[row_indexer,col_indexer] = value instead\n",
            "\n",
            "See the caveats in the documentation: https://pandas.pydata.org/pandas-docs/stable/user_guide/indexing.html#returning-a-view-versus-a-copy\n",
            "  isetter(loc, value)\n",
            "/usr/local/lib/python3.7/dist-packages/pandas/core/indexing.py:1763: SettingWithCopyWarning: \n",
            "A value is trying to be set on a copy of a slice from a DataFrame.\n",
            "Try using .loc[row_indexer,col_indexer] = value instead\n",
            "\n",
            "See the caveats in the documentation: https://pandas.pydata.org/pandas-docs/stable/user_guide/indexing.html#returning-a-view-versus-a-copy\n",
            "  isetter(loc, value)\n"
          ],
          "name": "stderr"
        }
      ]
    },
    {
      "cell_type": "markdown",
      "metadata": {
        "id": "JLLtHrIsOml0"
      },
      "source": [
        "Data aggregation"
      ]
    },
    {
      "cell_type": "code",
      "metadata": {
        "id": "-W6pi99saqSC"
      },
      "source": [
        "df_bureau = pd.get_dummies(df_bureau)"
      ],
      "execution_count": null,
      "outputs": []
    },
    {
      "cell_type": "code",
      "metadata": {
        "id": "R0QUktNrbw24"
      },
      "source": [
        "df_bureau = df_bureau.drop('SK_ID_BUREAU', axis=1).groupby('SK_ID_CURR').agg(['mean'])"
      ],
      "execution_count": null,
      "outputs": []
    },
    {
      "cell_type": "code",
      "metadata": {
        "id": "ZwqUQYM4att2"
      },
      "source": [
        "df_bureau = organize_agg(df_bureau, 'mean', 'Bureau')"
      ],
      "execution_count": null,
      "outputs": []
    },
    {
      "cell_type": "code",
      "metadata": {
        "id": "XK9Ljlb6buY1"
      },
      "source": [
        "df_test = pd.merge(df, df_bureau, on='SK_ID_CURR', how='left', indicator=True)"
      ],
      "execution_count": null,
      "outputs": []
    },
    {
      "cell_type": "code",
      "metadata": {
        "id": "Zex1OgPydvHq"
      },
      "source": [
        "df_test['_merge'] = df_test['_merge']=='left_only'\n",
        "df_test.rename({'_merge': 'Bureau'}, axis = 1, inplace=True)"
      ],
      "execution_count": null,
      "outputs": []
    },
    {
      "cell_type": "markdown",
      "metadata": {
        "id": "QbBHeRQyLWw9"
      },
      "source": [
        "##Bureau Balance\n"
      ]
    },
    {
      "cell_type": "code",
      "metadata": {
        "id": "4-QWzMR59kth"
      },
      "source": [
        "bureau_balance_en = pd.get_dummies(bureau_balance)"
      ],
      "execution_count": null,
      "outputs": []
    },
    {
      "cell_type": "markdown",
      "metadata": {
        "id": "b-OtM37L-JH7"
      },
      "source": [
        "Afterwards, these data can be aggregated using the mean value of each encoded feature in relation to each client. "
      ]
    },
    {
      "cell_type": "code",
      "metadata": {
        "id": "o8iNn96vN6Ci"
      },
      "source": [
        "c = list(bureau_balance_en.columns)\n",
        "c.remove('MONTHS_BALANCE')\n",
        "c.remove('SK_ID_BUREAU' )"
      ],
      "execution_count": null,
      "outputs": []
    },
    {
      "cell_type": "code",
      "metadata": {
        "id": "KEFeAooM9koe"
      },
      "source": [
        "bb_mean = (bureau_balance_en.drop(['MONTHS_BALANCE'], axis=1).groupby('SK_ID_BUREAU', as_index=True).agg(['mean']))\n",
        "bb_count = (bureau_balance_en[['SK_ID_BUREAU','MONTHS_BALANCE']].groupby('SK_ID_BUREAU', as_index=True).agg(['count']))"
      ],
      "execution_count": null,
      "outputs": []
    },
    {
      "cell_type": "code",
      "metadata": {
        "id": "3gT5Di-nO6tl"
      },
      "source": [
        "bb_mean = organize_agg(bb_mean, 'mean', 'bureau_balance')"
      ],
      "execution_count": null,
      "outputs": []
    },
    {
      "cell_type": "code",
      "metadata": {
        "id": "griQwKOSPICZ"
      },
      "source": [
        "bb_count = organize_agg(bb_count, 'count', 'bureau_balance')"
      ],
      "execution_count": null,
      "outputs": []
    },
    {
      "cell_type": "code",
      "metadata": {
        "id": "2hKTsARwMTiQ"
      },
      "source": [
        "bureau_balance_en = pd.merge(bb_mean, bb_count, on='SK_ID_BUREAU', how='left')"
      ],
      "execution_count": null,
      "outputs": []
    },
    {
      "cell_type": "code",
      "metadata": {
        "id": "zxW94XLXeYjw"
      },
      "source": [
        "del bb_mean"
      ],
      "execution_count": null,
      "outputs": []
    },
    {
      "cell_type": "code",
      "metadata": {
        "id": "BrFjCF8_ebOb"
      },
      "source": [
        "del bb_count"
      ],
      "execution_count": null,
      "outputs": []
    },
    {
      "cell_type": "markdown",
      "metadata": {
        "id": "8VN8ViXxm5Nn"
      },
      "source": [
        "Inclusion of target and ID variables into the Bureau dataset"
      ]
    },
    {
      "cell_type": "code",
      "metadata": {
        "id": "brGj35E39kjS"
      },
      "source": [
        "bureau_balance_id = pd.merge(bureau_balance_en, bureau[['SK_ID_BUREAU']], on='SK_ID_BUREAU', how='left')"
      ],
      "execution_count": null,
      "outputs": []
    },
    {
      "cell_type": "code",
      "metadata": {
        "id": "utuqxSb5QAGQ"
      },
      "source": [
        "del bureau_balance_en"
      ],
      "execution_count": null,
      "outputs": []
    },
    {
      "cell_type": "code",
      "metadata": {
        "id": "f45TwSyKf3dm"
      },
      "source": [
        "bureau_balance_id = pd.merge(bureau_balance_id, bureau[['SK_ID_CURR', 'SK_ID_BUREAU']], how = 'left', on='SK_ID_BUREAU')"
      ],
      "execution_count": null,
      "outputs": []
    },
    {
      "cell_type": "code",
      "metadata": {
        "id": "kLgqMRhPgBqo"
      },
      "source": [
        "bureau_balance_id = bureau_balance_id.dropna(axis=0,subset=['SK_ID_CURR']).groupby('SK_ID_CURR').agg(['mean'])"
      ],
      "execution_count": null,
      "outputs": []
    },
    {
      "cell_type": "code",
      "metadata": {
        "id": "UMxYCi_PjQq8"
      },
      "source": [
        "bureau_balance_id = organize_agg(bureau_balance_id, 'mean', 'Bureau_Balance')"
      ],
      "execution_count": null,
      "outputs": []
    },
    {
      "cell_type": "code",
      "metadata": {
        "id": "U042n9I2jyip"
      },
      "source": [
        "bureau_balance_id.drop('Bureau_Balance_SK_ID_BUREAU_mean', axis=1, inplace=True)"
      ],
      "execution_count": null,
      "outputs": []
    },
    {
      "cell_type": "markdown",
      "metadata": {
        "id": "zbzKVaTVOoTv"
      },
      "source": [
        "Merge with the training dataset"
      ]
    },
    {
      "cell_type": "code",
      "metadata": {
        "id": "wmxiOQULm7Mx"
      },
      "source": [
        "df_test = pd.merge(df_test, bureau_balance_id, on='SK_ID_CURR', how='left', indicator=True)\n",
        "df_test['_merge'] = df_test['_merge']=='left only'"
      ],
      "execution_count": null,
      "outputs": []
    },
    {
      "cell_type": "code",
      "metadata": {
        "id": "Xt9BtUu-NMdP"
      },
      "source": [
        "df_test.rename({'_merge': 'Bureau_Balance'}, axis=1, inplace=True)"
      ],
      "execution_count": null,
      "outputs": []
    },
    {
      "cell_type": "markdown",
      "metadata": {
        "id": "YwH2F7QOLqFN"
      },
      "source": [
        "##Previous application"
      ]
    },
    {
      "cell_type": "code",
      "metadata": {
        "id": "Z3Ut5IAeLsLH"
      },
      "source": [
        ""
      ],
      "execution_count": null,
      "outputs": []
    },
    {
      "cell_type": "code",
      "metadata": {
        "id": "656ipK2GPJlI"
      },
      "source": [
        "#Selected Features\n",
        "selected_columns_categorical = ['CODE_REJECT_REASON', 'PRODUCT_COMBINATION', 'NAME_CONTRACT_STATUS']\n",
        "selected_columns_numerical = ['DAYS_FIRST_DRAWING', 'DAYS_DECISION', 'RATE_DOWN_PAYMENT', 'AMT_ANNUITY', 'AMT_DOWN_PAYMENT', 'CNT_PAYMENT', 'DAYS_FIRST_DUE']\n",
        "head_columns = ['SK_ID_CURR', 'SK_ID_PREV']\n",
        "\n",
        "selected_columns = head_columns+selected_columns_categorical+selected_columns_numerical\n",
        "pa_final = previous_application[selected_columns]"
      ],
      "execution_count": null,
      "outputs": []
    },
    {
      "cell_type": "markdown",
      "metadata": {
        "id": "dS47p3C_uFBi"
      },
      "source": [
        "To prepare and aggregate the data, first, the features were divided according to their type, as numerical or categorical."
      ]
    },
    {
      "cell_type": "code",
      "metadata": {
        "id": "CFPGPAD6rEPw"
      },
      "source": [
        "pa_categorical, pa_numerical = split_dataframe(pa_final)"
      ],
      "execution_count": null,
      "outputs": []
    },
    {
      "cell_type": "markdown",
      "metadata": {
        "id": "3XtGXtqNvDuK"
      },
      "source": [
        "Categorical data"
      ]
    },
    {
      "cell_type": "code",
      "metadata": {
        "id": "2G2vBI4EuYVW"
      },
      "source": [
        "pa_categorical = pd.get_dummies(pa_categorical)\n",
        "\n",
        "pa_categorical_agg = pa_categorical.groupby('SK_ID_CURR', as_index=False).agg(['mean'])"
      ],
      "execution_count": null,
      "outputs": []
    },
    {
      "cell_type": "code",
      "metadata": {
        "id": "8YBtdjws57R9"
      },
      "source": [
        "pa_categorial_agg = organize_agg(pa_categorical_agg, 'mean', 'PA')"
      ],
      "execution_count": null,
      "outputs": []
    },
    {
      "cell_type": "code",
      "metadata": {
        "id": "hZ1HtlsY6Ic4"
      },
      "source": [
        "pa_categorial_agg.drop('PA_SK_ID_PREV_mean', axis=1, inplace=True)"
      ],
      "execution_count": null,
      "outputs": []
    },
    {
      "cell_type": "markdown",
      "metadata": {
        "id": "BGD54wQy6aVq"
      },
      "source": [
        "Numerical data"
      ]
    },
    {
      "cell_type": "markdown",
      "metadata": {
        "id": "gEPWjX6RePPn"
      },
      "source": [
        "\n",
        "Some of the features represent values relative to a timestamp counted as negative values. Therefore, positive values in such cases are a representation of missing values. These features information were transformed into positive values, such that negative values become a representation of missing values."
      ]
    },
    {
      "cell_type": "code",
      "metadata": {
        "id": "ojg04825f-e7"
      },
      "source": [
        "time_features = ['DAYS_FIRST_DRAWING', 'DAYS_FIRST_DUE', 'DAYS_DECISION' ]"
      ],
      "execution_count": null,
      "outputs": []
    },
    {
      "cell_type": "code",
      "metadata": {
        "id": "zMviEo_1mA_4"
      },
      "source": [
        "for i in time_features:\n",
        "  pa_numerical[i] = pa_numerical[i]/-365"
      ],
      "execution_count": null,
      "outputs": []
    },
    {
      "cell_type": "code",
      "metadata": {
        "id": "cM6lfHqUgthO"
      },
      "source": [
        "for i in time_features:\n",
        "  pa_numerical.loc[lambda pa_numerical: pa_numerical[i] < 0, [i]] = -99999"
      ],
      "execution_count": null,
      "outputs": []
    },
    {
      "cell_type": "code",
      "metadata": {
        "id": "TXhZN97zJGvF"
      },
      "source": [
        "for i in ['RATE_DOWN_PAYMENT', 'AMT_DOWN_PAYMENT']:\n",
        "  pa_numerical.loc[lambda pa_numerical: pa_numerical[i] < 0, [i]] = 0"
      ],
      "execution_count": null,
      "outputs": []
    },
    {
      "cell_type": "markdown",
      "metadata": {
        "id": "4VhVTBDmK_ip"
      },
      "source": [
        "Aggregation of clients in the previous application dataset"
      ]
    },
    {
      "cell_type": "code",
      "metadata": {
        "id": "HjJenGDy6MAw"
      },
      "source": [
        "pa_numerical = pa_numerical.groupby('SK_ID_CURR', as_index=False).agg(['mean'])"
      ],
      "execution_count": null,
      "outputs": []
    },
    {
      "cell_type": "code",
      "metadata": {
        "id": "ZgSi_U3J6mA_"
      },
      "source": [
        "pa_numerical = organize_agg(pa_numerical, 'mean', 'PA')"
      ],
      "execution_count": null,
      "outputs": []
    },
    {
      "cell_type": "code",
      "metadata": {
        "id": "hcm7ToYd6tWe"
      },
      "source": [
        "pa_numerical.drop('PA_SK_ID_PREV_mean', axis=1, inplace=True)"
      ],
      "execution_count": null,
      "outputs": []
    },
    {
      "cell_type": "code",
      "metadata": {
        "id": "-WEr3PXt6uV9"
      },
      "source": [
        "pa_final = pd.merge(pa_numerical, pa_categorial_agg, on='SK_ID_CURR', how='left')"
      ],
      "execution_count": null,
      "outputs": []
    },
    {
      "cell_type": "markdown",
      "metadata": {
        "id": "jonskAt37Q1c"
      },
      "source": [
        "Merge with the training dataset"
      ]
    },
    {
      "cell_type": "code",
      "metadata": {
        "id": "uGGRv2wp7Q1l"
      },
      "source": [
        "df_test = pd.merge(df_test, pa_final, on='SK_ID_CURR', how='left', indicator=True)\n",
        "df_test['_merge'] = df_test['_merge']=='left only'"
      ],
      "execution_count": null,
      "outputs": []
    },
    {
      "cell_type": "code",
      "metadata": {
        "id": "SqTPkbSU7Q1l"
      },
      "source": [
        "df_test.rename({'_merge': 'PA'}, axis=1, inplace=True)"
      ],
      "execution_count": null,
      "outputs": []
    },
    {
      "cell_type": "markdown",
      "metadata": {
        "id": "LRK-FyInc9si"
      },
      "source": [
        "##Credit Card Balance"
      ]
    },
    {
      "cell_type": "code",
      "metadata": {
        "id": "yF0V85lnUwpP"
      },
      "source": [
        "prev_cc_agg = credit_card_balance.drop('SK_ID_CURR', axis=1).groupby('SK_ID_PREV', as_index=True).agg(['max', 'min', 'mean'])"
      ],
      "execution_count": null,
      "outputs": []
    },
    {
      "cell_type": "code",
      "metadata": {
        "id": "2WTZgHP4a1vc"
      },
      "source": [
        "prev_cc_agg = organize_agg(prev_cc_agg, ['max', 'min', 'mean'], 'prev_cc_agg')"
      ],
      "execution_count": null,
      "outputs": []
    },
    {
      "cell_type": "code",
      "metadata": {
        "id": "vZrJ9NJKnGrk"
      },
      "source": [
        "prev_cc_agg = pd.merge(prev_cc_agg, credit_card_balance[['SK_ID_PREV', 'SK_ID_CURR']], on='SK_ID_PREV', how='left')"
      ],
      "execution_count": null,
      "outputs": []
    },
    {
      "cell_type": "code",
      "metadata": {
        "id": "X6dDV8aFbihn"
      },
      "source": [
        "prev_cc_agg = pd.merge(prev_cc_agg, application_train[['SK_ID_CURR', 'TARGET']], on='SK_ID_CURR', how='left')"
      ],
      "execution_count": null,
      "outputs": []
    },
    {
      "cell_type": "code",
      "metadata": {
        "id": "1Iv5pTJ1MuS_"
      },
      "source": [
        "prev_cc_agg = prev_cc_agg.groupby('SK_ID_CURR', as_index=False).agg(['mean'])"
      ],
      "execution_count": null,
      "outputs": []
    },
    {
      "cell_type": "code",
      "metadata": {
        "id": "_6pPZxd5MuN6"
      },
      "source": [
        "prev_cc_agg = organize_agg(prev_cc_agg, 'mean', 'CC_')"
      ],
      "execution_count": null,
      "outputs": []
    },
    {
      "cell_type": "code",
      "metadata": {
        "id": "mTGa_pLxONKq"
      },
      "source": [
        "cc_selected_feat = ['CC__prev_cc_agg_MONTHS_BALANCE_max_mean',\n",
        "                    'CC__prev_cc_agg_AMT_BALANCE_max_mean',\n",
        "                    'CC__prev_cc_agg_AMT_BALANCE_min_mean',\n",
        "                    'CC__prev_cc_agg_AMT_BALANCE_mean_mean',\n",
        "                    'CC__prev_cc_agg_AMT_RECIVABLE_max_mean',\n",
        "                    'CC__prev_cc_agg_AMT_RECIVABLE_min_mean',\n",
        "                    'CC__prev_cc_agg_AMT_RECIVABLE_mean_mean',\n",
        "                    'CC__prev_cc_agg_CNT_DRAWINGS_CURRENT_max_mean',\n",
        "                    'CC__prev_cc_agg_CNT_DRAWINGS_CURRENT_min_mean',\n",
        "                    'CC__prev_cc_agg_CNT_DRAWINGS_CURRENT_mean_mean',\n",
        "                    'CC__prev_cc_agg_AMT_INST_MIN_REGULARITY_max_mean',\n",
        "                    'CC__prev_cc_agg_AMT_INST_MIN_REGULARITY_min_mean',\n",
        "                    'CC__prev_cc_agg_AMT_INST_MIN_REGULARITY_mean_mean',\n",
        "                    'CC__prev_cc_agg_AMT_DRAWINGS_CURRENT_max_mean',\n",
        "                    'CC__prev_cc_agg_AMT_DRAWINGS_CURRENT_min_mean',\n",
        "                    'CC__prev_cc_agg_AMT_DRAWINGS_CURRENT_mean_mean']"
      ],
      "execution_count": null,
      "outputs": []
    },
    {
      "cell_type": "code",
      "metadata": {
        "id": "QqT_lGcNPb25"
      },
      "source": [
        "prev_cc_agg = prev_cc_agg[cc_selected_feat]"
      ],
      "execution_count": null,
      "outputs": []
    },
    {
      "cell_type": "markdown",
      "metadata": {
        "id": "OSKKGp7WPnab"
      },
      "source": [
        "Merge with the training dataset"
      ]
    },
    {
      "cell_type": "code",
      "metadata": {
        "id": "StG33LOxPnao"
      },
      "source": [
        "df_test = pd.merge(df_test, prev_cc_agg, on='SK_ID_CURR', how='left', indicator=True)\n",
        "df_test['_merge'] = df_test['_merge']=='left only'"
      ],
      "execution_count": null,
      "outputs": []
    },
    {
      "cell_type": "code",
      "metadata": {
        "id": "ZdR-w3-1Pnao"
      },
      "source": [
        "df_test.rename({'_merge': 'CC_Balance'}, axis=1, inplace=True)"
      ],
      "execution_count": null,
      "outputs": []
    },
    {
      "cell_type": "markdown",
      "metadata": {
        "id": "yB7USZDZL8uU"
      },
      "source": [
        "##Installments\n"
      ]
    },
    {
      "cell_type": "code",
      "metadata": {
        "id": "0IIjpxc-zHOP"
      },
      "source": [
        "installments_payments_agg = installments_payments.groupby('SK_ID_PREV').agg(['min', 'max', 'mean'])"
      ],
      "execution_count": null,
      "outputs": []
    },
    {
      "cell_type": "code",
      "metadata": {
        "id": "QXSAjojBzXEq"
      },
      "source": [
        "installments_payments_agg = organize_agg(installments_payments_agg,['min', 'max', 'mean'], 'installments')"
      ],
      "execution_count": null,
      "outputs": []
    },
    {
      "cell_type": "code",
      "metadata": {
        "id": "gAVYweHAzXDP"
      },
      "source": [
        "installments_payments_agg.drop(['installments_SK_ID_CURR_min', 'installments_SK_ID_CURR_max'], inplace=True, axis=1)"
      ],
      "execution_count": null,
      "outputs": []
    },
    {
      "cell_type": "code",
      "metadata": {
        "id": "iZfwt7rJzX8P"
      },
      "source": [
        "installments_payments_agg.rename(columns={'installments_SK_ID_CURR_mean':'SK_ID_CURR'}, inplace=True)"
      ],
      "execution_count": null,
      "outputs": []
    },
    {
      "cell_type": "code",
      "metadata": {
        "id": "wPkE_DzQ0-Iz"
      },
      "source": [
        "installments_payments_agg = pd.merge(installments_payments_agg, application_train[['SK_ID_CURR', 'TARGET']], on='SK_ID_CURR', how='left')"
      ],
      "execution_count": null,
      "outputs": []
    },
    {
      "cell_type": "code",
      "metadata": {
        "id": "VaPrvu1OBFEb"
      },
      "source": [
        "selected_columns_ip = ['SK_ID_CURR', 'installments_DAYS_ENTRY_PAYMENT_mean', 'installments_DAYS_INSTALMENT_mean', 'installments_NUM_INSTALMENT_NUMBER_mean', 'installments_AMT_INSTALMENT_mean']\n",
        "installments_payments_agg = installments_payments_agg[selected_columns_ip]"
      ],
      "execution_count": null,
      "outputs": []
    },
    {
      "cell_type": "code",
      "metadata": {
        "id": "dRpRnWEXShki"
      },
      "source": [
        "time_features = [ 'installments_DAYS_ENTRY_PAYMENT_mean', 'installments_DAYS_INSTALMENT_mean' ]"
      ],
      "execution_count": null,
      "outputs": []
    },
    {
      "cell_type": "code",
      "metadata": {
        "id": "TuYEf932Sh8E"
      },
      "source": [
        "for i in time_features:\n",
        "  installments_payments_agg[i] = installments_payments_agg[i]/-365"
      ],
      "execution_count": null,
      "outputs": []
    },
    {
      "cell_type": "code",
      "metadata": {
        "id": "Xqf5yE167Y2p"
      },
      "source": [
        "installments_payments_agg = installments_payments_agg.groupby('SK_ID_CURR', as_index=False).agg(['mean'])"
      ],
      "execution_count": null,
      "outputs": []
    },
    {
      "cell_type": "markdown",
      "metadata": {
        "id": "qmqfhHYpTFT3"
      },
      "source": [
        "Data aggregation"
      ]
    },
    {
      "cell_type": "code",
      "metadata": {
        "id": "fz8_hYN0Aer8"
      },
      "source": [
        "installments_payments_agg = organize_agg(installments_payments_agg, 'mean', 'Instalments')"
      ],
      "execution_count": null,
      "outputs": []
    },
    {
      "cell_type": "markdown",
      "metadata": {
        "id": "t1eXrObbKvxj"
      },
      "source": [
        "Merge with the training dataset"
      ]
    },
    {
      "cell_type": "code",
      "metadata": {
        "id": "NkxfvfliAljG"
      },
      "source": [
        "df_test = pd.merge(df_test, installments_payments_agg, on='SK_ID_CURR', how = 'left', indicator=True)\n",
        "df_test['_merge'] = df_test['_merge']=='left_only'\n",
        "df_test.rename({'_merge': 'Instalments'}, axis = 1, inplace=True)"
      ],
      "execution_count": null,
      "outputs": []
    },
    {
      "cell_type": "markdown",
      "metadata": {
        "id": "bU3r2PIEdfPb"
      },
      "source": [
        "##POS Data"
      ]
    },
    {
      "cell_type": "code",
      "metadata": {
        "id": "ahb0zPn0J4oE"
      },
      "source": [
        "pos_agg = pos_cash_balance.drop('SK_ID_CURR', axis=1).groupby('SK_ID_PREV').agg(['min', 'max', 'mean'])"
      ],
      "execution_count": null,
      "outputs": []
    },
    {
      "cell_type": "code",
      "metadata": {
        "id": "s8QfQ6eZM1sP"
      },
      "source": [
        "pos_agg = organize_agg(pos_agg,['min', 'max', 'mean'], 'pos')"
      ],
      "execution_count": null,
      "outputs": []
    },
    {
      "cell_type": "code",
      "metadata": {
        "id": "l2VmKbpQPEKI"
      },
      "source": [
        "pos_agg = pd.merge(pos_agg, pos_cash_balance[['SK_ID_PREV','SK_ID_CURR']], on='SK_ID_PREV', how='right')"
      ],
      "execution_count": null,
      "outputs": []
    },
    {
      "cell_type": "code",
      "metadata": {
        "id": "MaWh0qWDPeTX"
      },
      "source": [
        "pos_agg = pd.merge(pos_agg, application_train[['SK_ID_CURR', 'TARGET']], on='SK_ID_CURR', how='left')"
      ],
      "execution_count": null,
      "outputs": []
    },
    {
      "cell_type": "code",
      "metadata": {
        "id": "oJq18MMo2NV_"
      },
      "source": [
        "selected_columns_pos = ['SK_ID_CURR', 'pos_MONTHS_BALANCE_min', 'pos_CNT_INSTALMENT_min', 'pos_CNT_INSTALMENT_FUTURE_min', 'pos_SK_DPD_DEF_max']"
      ],
      "execution_count": null,
      "outputs": []
    },
    {
      "cell_type": "code",
      "metadata": {
        "id": "3MSW18GE3T82"
      },
      "source": [
        "pos_agg = pos_agg[selected_columns_pos]"
      ],
      "execution_count": null,
      "outputs": []
    },
    {
      "cell_type": "code",
      "metadata": {
        "id": "EgFaIA3WTRpM"
      },
      "source": [
        "time_features = [ 'pos_MONTHS_BALANCE_min' ]"
      ],
      "execution_count": null,
      "outputs": []
    },
    {
      "cell_type": "code",
      "metadata": {
        "id": "VpXp5isxTRpX"
      },
      "source": [
        "for i in time_features:\n",
        "  pos_agg[i] = pos_agg[i]/-12"
      ],
      "execution_count": null,
      "outputs": []
    },
    {
      "cell_type": "code",
      "metadata": {
        "id": "HdmazfGe1KDr"
      },
      "source": [
        "pos_agg = pos_agg.groupby('SK_ID_CURR', as_index=False).agg(['min', 'max'])"
      ],
      "execution_count": null,
      "outputs": []
    },
    {
      "cell_type": "code",
      "metadata": {
        "id": "qrNSbHLK2C_j"
      },
      "source": [
        "pos_agg = organize_agg(pos_agg, ['min', 'max'], '')"
      ],
      "execution_count": null,
      "outputs": []
    },
    {
      "cell_type": "markdown",
      "metadata": {
        "id": "2fUETqGF5B8o"
      },
      "source": [
        "Merge with the training dataset"
      ]
    },
    {
      "cell_type": "code",
      "metadata": {
        "id": "1wYxSAsH2OQV"
      },
      "source": [
        "df_test = pd.merge(df_test, pos_agg, on='SK_ID_CURR', how = 'left', indicator=True)\n",
        "df_test['_merge'] = df_test['_merge']=='left_only'\n",
        "df_test.rename({'_merge': 'POS'}, axis = 1, inplace=True)"
      ],
      "execution_count": null,
      "outputs": []
    },
    {
      "cell_type": "markdown",
      "metadata": {
        "id": "mXawiEhfvfFJ"
      },
      "source": [
        "##Encoding dataset"
      ]
    },
    {
      "cell_type": "code",
      "metadata": {
        "id": "5nLJZUlsqH0V"
      },
      "source": [
        "to_encode = ['NAME_CONTRACT_TYPE', 'CODE_GENDER', 'OCCUPATION_TYPE', 'ORGANIZATION_TYPE', 'FONDKAPREMONT_MODE', 'HOUSETYPE_MODE', 'WALLSMATERIAL_MODE']"
      ],
      "execution_count": null,
      "outputs": []
    },
    {
      "cell_type": "code",
      "metadata": {
        "id": "bVkVglTdLiZF"
      },
      "source": [
        "df_en_one = pd.get_dummies(df_test, columns=['NAME_CONTRACT_TYPE', 'CODE_GENDER', 'OCCUPATION_TYPE', 'ORGANIZATION_TYPE', 'FONDKAPREMONT_MODE', 'HOUSETYPE_MODE', 'WALLSMATERIAL_MODE'])"
      ],
      "execution_count": null,
      "outputs": []
    },
    {
      "cell_type": "code",
      "metadata": {
        "id": "6CBqq23fjk93"
      },
      "source": [
        "df_not_en = df_test.copy()"
      ],
      "execution_count": null,
      "outputs": []
    },
    {
      "cell_type": "code",
      "metadata": {
        "id": "hP5Ntk-Woa8m"
      },
      "source": [
        "df_cat = df_test"
      ],
      "execution_count": null,
      "outputs": []
    },
    {
      "cell_type": "code",
      "metadata": {
        "colab": {
          "base_uri": "https://localhost:8080/"
        },
        "id": "myUgcRpSwwQ8",
        "outputId": "c2e51663-ae18-4aa0-8835-c63105cf5bc1"
      },
      "source": [
        "df_cat.info()"
      ],
      "execution_count": null,
      "outputs": [
        {
          "output_type": "stream",
          "text": [
            "<class 'pandas.core.frame.DataFrame'>\n",
            "Int64Index: 48744 entries, 0 to 48743\n",
            "Columns: 144 entries, SK_ID_CURR to POS\n",
            "dtypes: bool(6), float64(126), int64(5), object(7)\n",
            "memory usage: 52.0+ MB\n"
          ],
          "name": "stdout"
        }
      ]
    },
    {
      "cell_type": "code",
      "metadata": {
        "id": "-vW9sOf1rIFw"
      },
      "source": [
        "for i in to_encode:\n",
        "  df_cat[i] = df_cat[i].astype('category')\n",
        "  df_cat[i]=df_cat[i].cat.codes\n"
      ],
      "execution_count": null,
      "outputs": []
    },
    {
      "cell_type": "markdown",
      "metadata": {
        "id": "JtTq4wpXdzQ9"
      },
      "source": [
        "##Load trained model"
      ]
    },
    {
      "cell_type": "code",
      "metadata": {
        "id": "Sy1UrpfJx7YK"
      },
      "source": [
        "feature_name = [\n",
        " 'SK_ID_CURR',\n",
        " 'NAME_CONTRACT_TYPE',\n",
        " 'CODE_GENDER',\n",
        " 'OCCUPATION_TYPE',\n",
        " 'ORGANIZATION_TYPE',\n",
        " 'FONDKAPREMONT_MODE',\n",
        " 'HOUSETYPE_MODE',\n",
        " 'WALLSMATERIAL_MODE',\n",
        " 'CNT_CHILDREN',\n",
        " 'AMT_INCOME_TOTAL',\n",
        " 'AMT_CREDIT',\n",
        " 'AMT_ANNUITY',\n",
        " 'AMT_GOODS_PRICE',\n",
        " 'REGION_POPULATION_RELATIVE',\n",
        " 'DAYS_BIRTH',\n",
        " 'DAYS_EMPLOYED',\n",
        " 'DAYS_REGISTRATION',\n",
        " 'DAYS_ID_PUBLISH',\n",
        " 'CNT_FAM_MEMBERS',\n",
        " 'REGION_RATING_CLIENT',\n",
        " 'REGION_RATING_CLIENT_W_CITY',\n",
        " 'HOUR_APPR_PROCESS_START',\n",
        " 'EXT_SOURCE_2',\n",
        " 'YEARS_BEGINEXPLUATATION_AVG',\n",
        " 'ENTRANCES_AVG',\n",
        " 'OBS_30_CNT_SOCIAL_CIRCLE',\n",
        " 'DEF_30_CNT_SOCIAL_CIRCLE',\n",
        " 'OBS_60_CNT_SOCIAL_CIRCLE',\n",
        " 'DEF_60_CNT_SOCIAL_CIRCLE',\n",
        " 'DAYS_LAST_PHONE_CHANGE',\n",
        " 'EXT_SOURCE_3',\n",
        " 'APARTMENTS_AVG',\n",
        " 'FLOORSMAX_AVG',\n",
        " 'TOTALAREA_MODE',\n",
        " 'LIVINGAREA_AVG',\n",
        " 'ELEVATORS_AVG',\n",
        " 'AMT_REQ_CREDIT_BUREAU_HOUR',\n",
        " 'AMT_REQ_CREDIT_BUREAU_DAY',\n",
        " 'AMT_REQ_CREDIT_BUREAU_WEEK',\n",
        " 'AMT_REQ_CREDIT_BUREAU_MON',\n",
        " 'AMT_REQ_CREDIT_BUREAU_QRT',\n",
        " 'AMT_REQ_CREDIT_BUREAU_YEAR',\n",
        " 'EXT_SOURCE_1',\n",
        " 'Bureau_DAYS_CREDIT_mean',\n",
        " 'Bureau_DAYS_CREDIT_UPDATE_mean',\n",
        " 'Bureau_CREDIT_ACTIVE_Active_mean',\n",
        " 'Bureau_CREDIT_ACTIVE_Bad debt_mean',\n",
        " 'Bureau_CREDIT_ACTIVE_Closed_mean',\n",
        " 'Bureau_CREDIT_ACTIVE_Sold_mean',\n",
        " 'Bureau_CREDIT_TYPE_Another type of loan_mean',\n",
        " 'Bureau_CREDIT_TYPE_Car loan_mean',\n",
        " 'Bureau_CREDIT_TYPE_Cash loan (non-earmarked)_mean',\n",
        " 'Bureau_CREDIT_TYPE_Consumer credit_mean',\n",
        " 'Bureau_CREDIT_TYPE_Credit card_mean',\n",
        " 'Bureau_CREDIT_TYPE_Interbank credit_mean',\n",
        " 'Bureau_CREDIT_TYPE_Loan for business development_mean',\n",
        " 'Bureau_CREDIT_TYPE_Loan for purchase of shares (margin lending)_mean',\n",
        " 'Bureau_CREDIT_TYPE_Loan for the purchase of equipment_mean',\n",
        " 'Bureau_CREDIT_TYPE_Loan for working capital replenishment_mean',\n",
        " 'Bureau_CREDIT_TYPE_Microloan_mean',\n",
        " 'Bureau_CREDIT_TYPE_Mobile operator loan_mean',\n",
        " 'Bureau_CREDIT_TYPE_Mortgage_mean',\n",
        " 'Bureau_CREDIT_TYPE_Real estate loan_mean',\n",
        " 'Bureau_CREDIT_TYPE_Unknown type of loan_mean',\n",
        " 'Bureau',\n",
        " 'Bureau_Balance_bureau_balance_STATUS_0_mean_mean',\n",
        " 'Bureau_Balance_bureau_balance_STATUS_1_mean_mean',\n",
        " 'Bureau_Balance_bureau_balance_STATUS_2_mean_mean',\n",
        " 'Bureau_Balance_bureau_balance_STATUS_3_mean_mean',\n",
        " 'Bureau_Balance_bureau_balance_STATUS_4_mean_mean',\n",
        " 'Bureau_Balance_bureau_balance_STATUS_5_mean_mean',\n",
        " 'Bureau_Balance_bureau_balance_STATUS_C_mean_mean',\n",
        " 'Bureau_Balance_bureau_balance_STATUS_X_mean_mean',\n",
        " 'Bureau_Balance_bureau_balance_MONTHS_BALANCE_count_mean',\n",
        " 'Bureau_Balance',\n",
        " 'PA_DAYS_FIRST_DRAWING_mean',\n",
        " 'PA_DAYS_DECISION_mean',\n",
        " 'PA_RATE_DOWN_PAYMENT_mean',\n",
        " 'PA_AMT_ANNUITY_mean',\n",
        " 'PA_AMT_DOWN_PAYMENT_mean',\n",
        " 'PA_CNT_PAYMENT_mean',\n",
        " 'PA_DAYS_FIRST_DUE_mean',\n",
        " 'PA_CODE_REJECT_REASON_CLIENT_mean',\n",
        " 'PA_CODE_REJECT_REASON_HC_mean',\n",
        " 'PA_CODE_REJECT_REASON_LIMIT_mean',\n",
        " 'PA_CODE_REJECT_REASON_SCO_mean',\n",
        " 'PA_CODE_REJECT_REASON_SCOFR_mean',\n",
        " 'PA_CODE_REJECT_REASON_SYSTEM_mean',\n",
        " 'PA_CODE_REJECT_REASON_VERIF_mean',\n",
        " 'PA_CODE_REJECT_REASON_XAP_mean',\n",
        " 'PA_CODE_REJECT_REASON_XNA_mean',\n",
        " 'PA_PRODUCT_COMBINATION_Card Street_mean',\n",
        " 'PA_PRODUCT_COMBINATION_Card X-Sell_mean',\n",
        " 'PA_PRODUCT_COMBINATION_Cash_mean',\n",
        " 'PA_PRODUCT_COMBINATION_Cash Street: high_mean',\n",
        " 'PA_PRODUCT_COMBINATION_Cash Street: low_mean',\n",
        " 'PA_PRODUCT_COMBINATION_Cash Street: middle_mean',\n",
        " 'PA_PRODUCT_COMBINATION_Cash X-Sell: high_mean',\n",
        " 'PA_PRODUCT_COMBINATION_Cash X-Sell: low_mean',\n",
        " 'PA_PRODUCT_COMBINATION_Cash X-Sell: middle_mean',\n",
        " 'PA_PRODUCT_COMBINATION_POS household with interest_mean',\n",
        " 'PA_PRODUCT_COMBINATION_POS household without interest_mean',\n",
        " 'PA_PRODUCT_COMBINATION_POS industry with interest_mean',\n",
        " 'PA_PRODUCT_COMBINATION_POS industry without interest_mean',\n",
        " 'PA_PRODUCT_COMBINATION_POS mobile with interest_mean',\n",
        " 'PA_PRODUCT_COMBINATION_POS mobile without interest_mean',\n",
        " 'PA_PRODUCT_COMBINATION_POS other with interest_mean',\n",
        " 'PA_PRODUCT_COMBINATION_POS others without interest_mean',\n",
        " 'PA_NAME_CONTRACT_STATUS_Approved_mean',\n",
        " 'PA_NAME_CONTRACT_STATUS_Canceled_mean',\n",
        " 'PA_NAME_CONTRACT_STATUS_Refused_mean',\n",
        " 'PA_NAME_CONTRACT_STATUS_Unused offer_mean',\n",
        " 'PA',\n",
        " 'CC__prev_cc_agg_MONTHS_BALANCE_max_mean',\n",
        " 'CC__prev_cc_agg_AMT_BALANCE_max_mean',\n",
        " 'CC__prev_cc_agg_AMT_BALANCE_min_mean',\n",
        " 'CC__prev_cc_agg_AMT_BALANCE_mean_mean',\n",
        " 'CC__prev_cc_agg_AMT_RECIVABLE_max_mean',\n",
        " 'CC__prev_cc_agg_AMT_RECIVABLE_min_mean',\n",
        " 'CC__prev_cc_agg_AMT_RECIVABLE_mean_mean',\n",
        " 'CC__prev_cc_agg_CNT_DRAWINGS_CURRENT_max_mean',\n",
        " 'CC__prev_cc_agg_CNT_DRAWINGS_CURRENT_min_mean',\n",
        " 'CC__prev_cc_agg_CNT_DRAWINGS_CURRENT_mean_mean',\n",
        " 'CC__prev_cc_agg_AMT_INST_MIN_REGULARITY_max_mean',\n",
        " 'CC__prev_cc_agg_AMT_INST_MIN_REGULARITY_min_mean',\n",
        " 'CC__prev_cc_agg_AMT_INST_MIN_REGULARITY_mean_mean',\n",
        " 'CC__prev_cc_agg_AMT_DRAWINGS_CURRENT_max_mean',\n",
        " 'CC__prev_cc_agg_AMT_DRAWINGS_CURRENT_min_mean',\n",
        " 'CC__prev_cc_agg_AMT_DRAWINGS_CURRENT_mean_mean',\n",
        " 'CC_Balance',\n",
        " 'Instalments_installments_DAYS_ENTRY_PAYMENT_mean_mean',\n",
        " 'Instalments_installments_DAYS_INSTALMENT_mean_mean',\n",
        " 'Instalments_installments_NUM_INSTALMENT_NUMBER_mean_mean',\n",
        " 'Instalments_installments_AMT_INSTALMENT_mean_mean',\n",
        " 'Instalments',\n",
        " '_pos_MONTHS_BALANCE_min_min',\n",
        " '_pos_MONTHS_BALANCE_min_max',\n",
        " '_pos_CNT_INSTALMENT_min_min',\n",
        " '_pos_CNT_INSTALMENT_min_max',\n",
        " '_pos_CNT_INSTALMENT_FUTURE_min_min',\n",
        " '_pos_CNT_INSTALMENT_FUTURE_min_max',\n",
        " '_pos_SK_DPD_DEF_max_min',\n",
        " '_pos_SK_DPD_DEF_max_max',\n",
        " 'POS']"
      ],
      "execution_count": null,
      "outputs": []
    },
    {
      "cell_type": "code",
      "metadata": {
        "id": "XCUuj0DynOVr"
      },
      "source": [
        "filename = path + 'model_lgbm.pkl'"
      ],
      "execution_count": null,
      "outputs": []
    },
    {
      "cell_type": "code",
      "metadata": {
        "id": "z2293__WjatD"
      },
      "source": [
        "lgbmc = pickle.load(open(filename, 'rb'))"
      ],
      "execution_count": null,
      "outputs": []
    },
    {
      "cell_type": "code",
      "metadata": {
        "id": "V8r_noFVE9EE"
      },
      "source": [
        "df_test = df_test[feature_name]"
      ],
      "execution_count": null,
      "outputs": []
    },
    {
      "cell_type": "code",
      "metadata": {
        "id": "aQcifwM-plhd"
      },
      "source": [
        "x = df_test.iloc[:,1:]"
      ],
      "execution_count": null,
      "outputs": []
    },
    {
      "cell_type": "code",
      "metadata": {
        "id": "JuaJwgXTtQ_Q"
      },
      "source": [
        "sub = lgbmc.predict_proba(x)[:,1]"
      ],
      "execution_count": null,
      "outputs": []
    },
    {
      "cell_type": "code",
      "metadata": {
        "id": "lVnujGd0vrqM"
      },
      "source": [
        "submission = pd.DataFrame( {'SK_ID_CURR': df_test['SK_ID_CURR'], 'TARGET': sub})"
      ],
      "execution_count": null,
      "outputs": []
    },
    {
      "cell_type": "code",
      "metadata": {
        "id": "QeBKaHP1v1vQ"
      },
      "source": [
        "submission.to_csv(path+'submission.csv', index=False)"
      ],
      "execution_count": null,
      "outputs": []
    },
    {
      "cell_type": "code",
      "metadata": {
        "colab": {
          "base_uri": "https://localhost:8080/"
        },
        "id": "obPyFug9wSNV",
        "outputId": "724b74c7-0e00-4f7f-acbd-8a8a61718434"
      },
      "source": [
        "lgbmc"
      ],
      "execution_count": null,
      "outputs": [
        {
          "output_type": "execute_result",
          "data": {
            "text/plain": [
              "LGBMClassifier(boosting_type='gbdt', class_weight=None, colsample_bytree=0.7,\n",
              "               importance_type='split', learning_rate=0.05, max_depth=-1,\n",
              "               metric='auc', min_child_samples=20, min_child_weight=0.001,\n",
              "               min_data_in_leaf=10, min_split_gain=0.01, n_estimators=500,\n",
              "               n_jobs=-1, num_leaves=10, objective='binary', random_state=16,\n",
              "               reg_alpha=0.0, reg_lambda=0.0, silent=True, subsample=0.5,\n",
              "               subsample_for_bin=200000, subsample_freq=0)"
            ]
          },
          "metadata": {
            "tags": []
          },
          "execution_count": 122
        }
      ]
    },
    {
      "cell_type": "code",
      "metadata": {
        "id": "UhD0TX60Ci4S"
      },
      "source": [
        ""
      ],
      "execution_count": null,
      "outputs": []
    }
  ]
}